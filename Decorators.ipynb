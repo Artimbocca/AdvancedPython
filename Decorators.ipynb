{
 "cells": [
  {
   "cell_type": "markdown",
   "metadata": {},
   "source": [
    "## Decorators\n",
    "Fiunctions are first-class objects: they be bound to names, passed as arguments to other functions, be returned functions."
   ]
  },
  {
   "cell_type": "code",
   "execution_count": 134,
   "metadata": {},
   "outputs": [
    {
     "data": {
      "text/plain": [
       "'hello Albert'"
      ]
     },
     "execution_count": 134,
     "metadata": {},
     "output_type": "execute_result"
    }
   ],
   "source": [
    "def greet(name):\n",
    "    return \"hello \" + name\n",
    "groet = greet\n",
    "groet(\"Albert\")   "
   ]
  },
  {
   "cell_type": "code",
   "execution_count": 141,
   "metadata": {},
   "outputs": [
    {
     "data": {
      "text/plain": [
       "'Hello Joe'"
      ]
     },
     "execution_count": 141,
     "metadata": {},
     "output_type": "execute_result"
    }
   ],
   "source": [
    "def greeting(name):\n",
    "    def message():               # functions can be defined in (by) other functions \n",
    "        return f\"Hello {name}\"   # note that 'name' is accessible in embedded function\n",
    "    return message()\n",
    "greeting('Joe')"
   ]
  },
  {
   "cell_type": "code",
   "execution_count": 135,
   "metadata": {},
   "outputs": [
    {
     "data": {
      "text/plain": [
       "'Hello Joe'"
      ]
     },
     "execution_count": 135,
     "metadata": {},
     "output_type": "execute_result"
    }
   ],
   "source": [
    "# Function can return another function:\n",
    "def greet(name):\n",
    "    def message():               \n",
    "        return f\"Hello {name}\"   \n",
    "    return message       # return function instead of just its result\n",
    "hi_joe = greet('Joe')\n",
    "hi_joe()"
   ]
  },
  {
   "cell_type": "code",
   "execution_count": 139,
   "metadata": {},
   "outputs": [
    {
     "data": {
      "text/plain": [
       "('Hello Joe', 'Hello Joe')"
      ]
     },
     "execution_count": 139,
     "metadata": {},
     "output_type": "execute_result"
    }
   ],
   "source": [
    "#Function can take other function as an argument:\n",
    "def call_func(func, *args):\n",
    "    return func(*args)  \n",
    "call_func(hi_joe), call_func(greet('Joe'))"
   ]
  },
  {
   "cell_type": "markdown",
   "metadata": {},
   "source": [
    "### Closure\n",
    "Free variables in a function that were bound at definition time remain so when the function is later executed. See the function returned by `greet` above. Below is another example: the b remains bound to 4. This example also shows that functions can, like other Python objects, be given extra attributes, both from inside and from outside the function body. This is different from a closure: foo can produce many different closures for baz "
   ]
  },
  {
   "cell_type": "code",
   "execution_count": 2,
   "metadata": {},
   "outputs": [
    {
     "name": "stdout",
     "output_type": "stream",
     "text": [
      "{'a': 8}\n",
      "5 4 17\n",
      "{'a': 17}\n",
      "7 4 12\n"
     ]
    },
    {
     "data": {
      "text/plain": [
       "7"
      ]
     },
     "execution_count": 2,
     "metadata": {},
     "output_type": "execute_result"
    }
   ],
   "source": [
    "a = 10\n",
    "def foo(a):\n",
    "    foo.a += 9\n",
    "    b = 4\n",
    "    def baz():\n",
    "        print(a, b, foo.a)\n",
    "    baz.x = 7\n",
    "    return baz\n",
    "\n",
    "foo.a = 8\n",
    "print(foo.__dict__)\n",
    "foo(5)()\n",
    "print(foo.__dict__)\n",
    "foo.a = 3\n",
    "foo(7)()\n",
    "foo(8).x\n",
    "foo(8).x = 132\n",
    "foo(8).x"
   ]
  },
  {
   "cell_type": "markdown",
   "metadata": {},
   "source": [
    "Existing functions can be decorated with additional functionality without changes the function itself, by wrapping the function in another function and naming the resulting wrapped function the same as the function being wrapped:"
   ]
  },
  {
   "cell_type": "code",
   "execution_count": 15,
   "metadata": {},
   "outputs": [
    {
     "name": "stdout",
     "output_type": "stream",
     "text": [
      "A wrapped version of foo\n"
     ]
    },
    {
     "data": {
      "text/plain": [
       "36"
      ]
     },
     "execution_count": 15,
     "metadata": {},
     "output_type": "execute_result"
    }
   ],
   "source": [
    "def wrapper(f):\n",
    "    def wrapped(*args, **kwargs):\n",
    "        print(\"A wrapped version of\", f.__name__)\n",
    "        return f(*args, **kwargs)\n",
    "    return wrapped\n",
    "\n",
    "def foo(*args):\n",
    "    return sum(args)\n",
    "\n",
    "foo = wrapper(foo)\n",
    "foo(*range(9))"
   ]
  },
  {
   "cell_type": "markdown",
   "metadata": {},
   "source": [
    "Syntactic shortcut is provided by @ keyword:"
   ]
  },
  {
   "cell_type": "code",
   "execution_count": 27,
   "metadata": {},
   "outputs": [
    {
     "name": "stdout",
     "output_type": "stream",
     "text": [
      "A wrapped version of baz\n"
     ]
    },
    {
     "data": {
      "text/plain": [
       "61"
      ]
     },
     "execution_count": 27,
     "metadata": {},
     "output_type": "execute_result"
    }
   ],
   "source": [
    "@wrapper\n",
    "def baz(*args, ignore=3):\n",
    "    \"sum ignoring multiples of three\"\n",
    "    return sum(filter(lambda x: x% ignore, args))\n",
    "\n",
    "baz(*range(14))"
   ]
  },
  {
   "cell_type": "code",
   "execution_count": 28,
   "metadata": {},
   "outputs": [
    {
     "name": "stdout",
     "output_type": "stream",
     "text": [
      "Help on function wrapped in module __main__:\n",
      "\n",
      "wrapped(*args, **kwargs)\n",
      "\n"
     ]
    },
    {
     "data": {
      "text/plain": [
       "'wrapped'"
      ]
     },
     "execution_count": 28,
     "metadata": {},
     "output_type": "execute_result"
    }
   ],
   "source": [
    "help(baz)\n",
    "baz.__name__"
   ]
  },
  {
   "cell_type": "markdown",
   "metadata": {},
   "source": [
    "Not very useful. Need to move __name__, __doc__ and from wrapped to wrapper. "
   ]
  },
  {
   "cell_type": "code",
   "execution_count": 34,
   "metadata": {},
   "outputs": [
    {
     "name": "stdout",
     "output_type": "stream",
     "text": [
      "Help on function wrapped in module __main__:\n",
      "\n",
      "wrapped(*args, **kwargs)\n",
      "    sum ignoring multiples of three\n",
      "\n",
      "<function baz at 0x000001D41B773048>\n"
     ]
    }
   ],
   "source": [
    "def wrapper(f):\n",
    "    def wrapped(*args, **kwargs):\n",
    "        print(\"A wrapped version of\", f.__name__)\n",
    "        return f(*args, **kwargs)\n",
    "    wrapped.__doc__ = f.__doc__\n",
    "    wrapped.__qualname__ = f.__qualname__\n",
    "    return wrapped\n",
    "@wrapper\n",
    "def baz(*args, ignore=3):\n",
    "    \"sum ignoring multiples of three\"\n",
    "    return sum(filter(lambda x: x% ignore, args))\n",
    "help(baz)\n",
    "print(baz)"
   ]
  },
  {
   "cell_type": "code",
   "execution_count": 36,
   "metadata": {},
   "outputs": [
    {
     "name": "stdout",
     "output_type": "stream",
     "text": [
      "Help on function baz in module __main__:\n",
      "\n",
      "baz(*args, ignore=3)\n",
      "    sum ignoring multiples of three\n",
      "\n",
      "<function baz at 0x000001D41B773288>\n"
     ]
    }
   ],
   "source": [
    "# easier (and better: also copies signature!) using functools.wraps decorator\n",
    "from functools import wraps\n",
    "def wrapper(f):\n",
    "    @wraps(f)\n",
    "    def wrapped(*args, **kwargs):\n",
    "        print(\"A wrapped version of\", f.__name__)\n",
    "        return f(*args, **kwargs)\n",
    "    return wrapped\n",
    "@wrapper\n",
    "def baz(*args, ignore=3):\n",
    "    \"sum ignoring multiples of three\"\n",
    "    return sum(filter(lambda x: x% ignore, args))\n",
    "help(baz)\n",
    "print(baz)"
   ]
  },
  {
   "cell_type": "code",
   "execution_count": 37,
   "metadata": {},
   "outputs": [
    {
     "data": {
      "text/plain": [
       "'<div><p><strong>Hi Mary!</strong></p></div>'"
      ]
     },
     "execution_count": 37,
     "metadata": {},
     "output_type": "execute_result"
    }
   ],
   "source": [
    "#stacking decorators\n",
    "def p_decorate(func):\n",
    "    def func_wrapper(name):\n",
    "        return \"<p>{0}</p>\".format(func(name))\n",
    "    return func_wrapper\n",
    "def strong_decorate(func):\n",
    "    def func_wrapper(name):\n",
    "        return \"<strong>{0}</strong>\".format(func(name))\n",
    "    return func_wrapper\n",
    "def div_decorate(func):\n",
    "    def func_wrapper(name):\n",
    "        return \"<div>{0}</div>\".format(func(name))\n",
    "    return func_wrapper\n",
    "@div_decorate\n",
    "@p_decorate\n",
    "@strong_decorate\n",
    "def get_text(name):\n",
    "    return \"Hi {0}!\".format(name)\n",
    "get_text(\"Mary\")"
   ]
  },
  {
   "cell_type": "code",
   "execution_count": 43,
   "metadata": {},
   "outputs": [
    {
     "name": "stdout",
     "output_type": "stream",
     "text": [
      "### foo\n"
     ]
    },
    {
     "data": {
      "text/plain": [
       "4.5"
      ]
     },
     "execution_count": 43,
     "metadata": {},
     "output_type": "execute_result"
    }
   ],
   "source": [
    "# decorator with args\n",
    "from functools import wraps\n",
    "def debug(prefix=''):\n",
    "    def decorator(func):\n",
    "        @wraps(func)\n",
    "        def wrapped(*args, **kwargs):\n",
    "            print(f'{prefix} {func.__qualname__}')\n",
    "            return func(*args, **kwargs)\n",
    "        return wrapped\n",
    "    return decorator\n",
    "@debug(prefix='###')\n",
    "def foo(x):\n",
    "    return x/2\n",
    "foo(9)"
   ]
  },
  {
   "cell_type": "code",
   "execution_count": 45,
   "metadata": {},
   "outputs": [
    {
     "name": "stdout",
     "output_type": "stream",
     "text": [
      "### foo\n"
     ]
    },
    {
     "data": {
      "text/plain": [
       "4.5"
      ]
     },
     "execution_count": 45,
     "metadata": {},
     "output_type": "execute_result"
    }
   ],
   "source": [
    "# far too clever: use decorator twice, using partial to create closure, but requiring named 'prefix' \n",
    "from functools import wraps, partial \n",
    "def debug(func=None, *, prefix= ''):\n",
    "    if func is None:\n",
    "        return partial(debug, prefix=prefix)\n",
    "    @wraps(func)\n",
    "    def wrapped(*args, **kwargs):\n",
    "        print(f'{prefix} {func.__qualname__}')\n",
    "        return func(*args, **kwargs)\n",
    "    return wrapped   \n",
    "@debug(prefix='###')\n",
    "def foo(x):\n",
    "    return x/2\n",
    "foo(9)"
   ]
  },
  {
   "cell_type": "code",
   "execution_count": 46,
   "metadata": {},
   "outputs": [
    {
     "data": {
      "text/plain": [
       "True"
      ]
     },
     "execution_count": 46,
     "metadata": {},
     "output_type": "execute_result"
    }
   ],
   "source": [
    "# class decorator\n",
    "instances = {}\n",
    "def singleton(cls):\n",
    "    def wrapped(*args):\n",
    "        if cls not in instances:\n",
    "             instances[cls]=cls(*args)\n",
    "        return instances[cls]\n",
    "    return wrapped\n",
    "@singleton\n",
    "class Foo: pass\n",
    "Foo() is Foo()"
   ]
  },
  {
   "cell_type": "code",
   "execution_count": 61,
   "metadata": {},
   "outputs": [
    {
     "data": {
      "text/plain": [
       "(True,\n",
       " True,\n",
       " {__main__.Foo: <__main__.Foo at 0x1d41aa92148>,\n",
       "  __main__.Baz: <__main__.Baz at 0x1d41aa921c8>})"
      ]
     },
     "execution_count": 61,
     "metadata": {},
     "output_type": "execute_result"
    }
   ],
   "source": [
    "# class decorato: store instances with decorator\n",
    "def singleton(cls):\n",
    "    singleton.instances = {}\n",
    "    def wrapped(*args):\n",
    "        if cls not in singleton.instances:\n",
    "             singleton.instances[cls]=cls(*args)\n",
    "        return singleton.instances[cls]\n",
    "    return wrapped\n",
    "@singleton\n",
    "class Foo: pass\n",
    "@singleton\n",
    "class Baz: pass\n",
    "Foo() is Foo(), Baz() is Baz(), singleton.instances"
   ]
  },
  {
   "cell_type": "code",
   "execution_count": 65,
   "metadata": {},
   "outputs": [
    {
     "data": {
      "text/plain": [
       "(True, True)"
      ]
     },
     "execution_count": 65,
     "metadata": {},
     "output_type": "execute_result"
    }
   ],
   "source": [
    "def singleton(cls):\n",
    "    instances = {}\n",
    "    def wrapped(*args):\n",
    "        if cls not in instances:\n",
    "             instances[cls]=cls(*args)\n",
    "        return instances[cls]\n",
    "    return wrapped\n",
    "@singleton\n",
    "class Foo: pass\n",
    "@singleton\n",
    "class Baz: pass\n",
    "Foo() is Foo(), Baz() is Baz() # hard or impossible (?) to get hold of dictionary"
   ]
  },
  {
   "cell_type": "code",
   "execution_count": 58,
   "metadata": {},
   "outputs": [
    {
     "data": {
      "text/plain": [
       "(True, True)"
      ]
     },
     "execution_count": 58,
     "metadata": {},
     "output_type": "execute_result"
    }
   ],
   "source": [
    "# class decorator\n",
    "def singleton(cls):\n",
    "    instance = None\n",
    "    def wrapped(*args):\n",
    "        nonlocal instance\n",
    "        if not instance:\n",
    "             instance=cls(*args)\n",
    "        return instance\n",
    "    return wrapped\n",
    "@singleton\n",
    "class Foo: pass\n",
    "@singleton\n",
    "class Baz: pass\n",
    "a = Baz()\n",
    "f = Foo()\n",
    "a is Baz(), f is Foo()"
   ]
  },
  {
   "cell_type": "markdown",
   "metadata": {},
   "source": [
    "### Callables with state: three options"
   ]
  },
  {
   "cell_type": "code",
   "execution_count": 66,
   "metadata": {},
   "outputs": [
    {
     "data": {
      "text/plain": [
       "9"
      ]
     },
     "execution_count": 66,
     "metadata": {},
     "output_type": "execute_result"
    }
   ],
   "source": [
    "#Closure\n",
    "\n",
    "def adder_as_closure(augend):\n",
    "    def add(addend, _augend=augend):\n",
    "        return addend+_augend\n",
    "    return add\n",
    "adder_as_closure(5)(4)"
   ]
  },
  {
   "cell_type": "code",
   "execution_count": 67,
   "metadata": {},
   "outputs": [
    {
     "data": {
      "text/plain": [
       "9"
      ]
     },
     "execution_count": 67,
     "metadata": {},
     "output_type": "execute_result"
    }
   ],
   "source": [
    "#Bound method\n",
    "\n",
    "def adder_as_bound_method(augend):\n",
    "    class Adder:\n",
    "        def __init__(self, augend):\n",
    "            self.augend = augend\n",
    "        def add(self, addend):\n",
    "            return addend+self.augend   \n",
    "    return Adder(augend).add\n",
    "adder_as_bound_method(5)(4)"
   ]
  },
  {
   "cell_type": "code",
   "execution_count": 68,
   "metadata": {},
   "outputs": [
    {
     "data": {
      "text/plain": [
       "9"
      ]
     },
     "execution_count": 68,
     "metadata": {},
     "output_type": "execute_result"
    }
   ],
   "source": [
    "#Callable instance\n",
    "\n",
    "def adder_as_callable_instance(augend):\n",
    "    class Adder:\n",
    "        def __init__(self, augend):\n",
    "            self.augend = augend\n",
    "        def __call__(self, addend):\n",
    "            return addend+self.augend\n",
    "    return Adder(augend)\n",
    "adder_as_callable_instance(5)(4)"
   ]
  },
  {
   "cell_type": "code",
   "execution_count": 75,
   "metadata": {},
   "outputs": [
    {
     "data": {
      "text/plain": [
       "[15, 15, 15]"
      ]
     },
     "execution_count": 75,
     "metadata": {},
     "output_type": "execute_result"
    }
   ],
   "source": [
    "list(add(2) for add in (make(13) for make in [adder_as_closure, adder_as_bound_method, adder_as_callable_instance]))"
   ]
  }
 ],
 "metadata": {
  "kernelspec": {
   "display_name": "Python 3",
   "language": "python",
   "name": "python3"
  },
  "language_info": {
   "codemirror_mode": {
    "name": "ipython",
    "version": 3
   },
   "file_extension": ".py",
   "mimetype": "text/x-python",
   "name": "python",
   "nbconvert_exporter": "python",
   "pygments_lexer": "ipython3",
   "version": "3.7.4"
  }
 },
 "nbformat": 4,
 "nbformat_minor": 2
}
