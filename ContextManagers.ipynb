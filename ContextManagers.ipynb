{
 "cells": [
  {
   "cell_type": "markdown",
   "metadata": {},
   "source": [
    "## Context managers"
   ]
  },
  {
   "cell_type": "code",
   "execution_count": 25,
   "metadata": {},
   "outputs": [
    {
     "name": "stdout",
     "output_type": "stream",
     "text": [
      "line 1: {\n",
      "\n",
      "line 2:  \"cells\": [\n",
      "\n",
      "line 3:   {\n",
      "\n",
      "line 4:    \"cell_type\": \"markdown\",\n",
      "\n",
      "number of lines remaining in file: 215\n"
     ]
    }
   ],
   "source": [
    "def readlines(fd, n = 3):\n",
    "    for i, line in enumerate(fd):\n",
    "        print(f\"line {i+1}: {line}\")\n",
    "        if i == n-1:\n",
    "            break\n",
    "    print(f\"number of lines remaining in file: {len([*fd])}\")\n",
    "\n",
    "try:\n",
    "    fd = open(\"ContextManagers.ipynb\")\n",
    "    readlines(fd, 4)\n",
    "finally: \n",
    "    fd.close()"
   ]
  },
  {
   "attachments": {},
   "cell_type": "markdown",
   "metadata": {},
   "source": [
    "Common pattern:\n",
    "\n",
    "`set things up\n",
    "try: \n",
    "    do something \n",
    "except: …\n",
    "finally:  \n",
    "    tear things down`\n",
    "\n",
    "With statement:\n",
    "\n",
    "`with controlled_execution() [as handle]: \n",
    "     statement(s)\n",
    "`"
   ]
  },
  {
   "cell_type": "code",
   "execution_count": 27,
   "metadata": {},
   "outputs": [
    {
     "name": "stdout",
     "output_type": "stream",
     "text": [
      "line 1: {\n",
      "\n",
      "line 2:  \"cells\": [\n",
      "\n",
      "line 3:   {\n",
      "\n",
      "line 4:    \"cell_type\": \"markdown\",\n",
      "\n",
      "number of lines remaining in file: 215\n"
     ]
    }
   ],
   "source": [
    "with open(\"ContextManagers.ipynb\") as fd:\n",
    "    readlines(fd, 4)"
   ]
  },
  {
   "cell_type": "code",
   "execution_count": 38,
   "metadata": {},
   "outputs": [
    {
     "name": "stdout",
     "output_type": "stream",
     "text": [
      "line 1: {\n",
      "\n",
      "line 2:  \"cells\": [\n",
      "\n",
      "line 3:   {\n",
      "\n",
      "line 4:    \"cell_type\": \"markdown\",\n",
      "\n",
      "number of lines remaining in file: 235\n",
      "closed: ContextManagers.ipynb\n"
     ]
    }
   ],
   "source": [
    "class Open:\n",
    "    def __init__(self, file, mode='r'):\n",
    "        self.file = file\n",
    "        self.mode = mode\n",
    "    def __enter__(self): \n",
    "        self.fd = open(self.file, self.mode) \n",
    "        return self.fd \n",
    "    def __exit__(self, exc, val, traceback): \n",
    "        self.fd.close()\n",
    "        print(f\"closed: {self.file}\")\n",
    "            \n",
    "with Open(\"ContextManagers.ipynb\") as fd:\n",
    "    readlines(fd, 4)"
   ]
  },
  {
   "cell_type": "code",
   "execution_count": 40,
   "metadata": {},
   "outputs": [
    {
     "name": "stdout",
     "output_type": "stream",
     "text": [
      "line 1: {\n",
      "\n",
      "line 2:  \"cells\": [\n",
      "\n",
      "line 3:   {\n",
      "\n",
      "line 4:    \"cell_type\": \"markdown\",\n",
      "\n",
      "number of lines remaining in file: 238\n"
     ]
    }
   ],
   "source": [
    "from contextlib import contextmanager\n",
    "\n",
    "@contextmanager\n",
    "def open_file(name, mode='r'):\n",
    "    f = open(name, mode)\n",
    "    yield f\n",
    "    f.close()\n",
    "\n",
    "with open_file('ContextManagers.ipynb') as fd:\n",
    "    readlines(fd, 4)"
   ]
  },
  {
   "cell_type": "code",
   "execution_count": 39,
   "metadata": {},
   "outputs": [
    {
     "name": "stdout",
     "output_type": "stream",
     "text": [
      "line 1: {\n",
      "\n",
      "line 2:  \"cells\": [\n",
      "\n",
      "line 3:   {\n",
      "\n",
      "line 4:    \"cell_type\": \"markdown\",\n",
      "\n",
      "line 5:    \"metadata\": {},\n",
      "\n",
      "number of lines remaining in file: 234\n",
      "closed: ContextManagers.ipynb\n"
     ]
    },
    {
     "ename": "Exception",
     "evalue": "test",
     "output_type": "error",
     "traceback": [
      "\u001b[1;31m---------------------------------------------------------------------------\u001b[0m",
      "\u001b[1;31mException\u001b[0m                                 Traceback (most recent call last)",
      "\u001b[1;32m<ipython-input-39-eb010bfb6f2f>\u001b[0m in \u001b[0;36m<module>\u001b[1;34m\u001b[0m\n\u001b[0;32m      5\u001b[0m \u001b[1;32mtry\u001b[0m\u001b[1;33m:\u001b[0m\u001b[1;33m\u001b[0m\u001b[1;33m\u001b[0m\u001b[0m\n\u001b[0;32m      6\u001b[0m     \u001b[0mreadlines\u001b[0m\u001b[1;33m(\u001b[0m\u001b[0mvarname\u001b[0m\u001b[1;33m,\u001b[0m \u001b[1;36m5\u001b[0m\u001b[1;33m)\u001b[0m\u001b[1;33m\u001b[0m\u001b[1;33m\u001b[0m\u001b[0m\n\u001b[1;32m----> 7\u001b[1;33m     \u001b[1;32mraise\u001b[0m \u001b[0mException\u001b[0m\u001b[1;33m(\u001b[0m\u001b[1;34m\"test\"\u001b[0m\u001b[1;33m)\u001b[0m   \u001b[1;31m# uncomment to see what happens when some exception occurs\u001b[0m\u001b[1;33m\u001b[0m\u001b[1;33m\u001b[0m\u001b[0m\n\u001b[0m\u001b[0;32m      8\u001b[0m \u001b[1;32mexcept\u001b[0m\u001b[1;33m:\u001b[0m\u001b[1;33m\u001b[0m\u001b[1;33m\u001b[0m\u001b[0m\n\u001b[0;32m      9\u001b[0m     \u001b[0m_normal_exit\u001b[0m \u001b[1;33m=\u001b[0m \u001b[1;32mFalse\u001b[0m\u001b[1;33m\u001b[0m\u001b[1;33m\u001b[0m\u001b[0m\n",
      "\u001b[1;31mException\u001b[0m: test"
     ]
    }
   ],
   "source": [
    "import sys \n",
    "_normal_exit = True\n",
    "_manager = Open('ContextManagers.ipynb')\n",
    "varname = _manager.__enter__()\n",
    "try:\n",
    "    readlines(varname, 5)\n",
    "    raise Exception(\"test\")   # uncomment to see what happens when some exception occurs\n",
    "except:\n",
    "    _normal_exit = False\n",
    "    if not _manager.__exit__(*sys.exc_info()):\n",
    "        raise\n",
    "# exception does not propagate if __exit__ returns a true value\n",
    "finally:\n",
    "    if _normal_exit:\n",
    "        _manager.__exit__(None, None, None)"
   ]
  }
 ],
 "metadata": {
  "kernelspec": {
   "display_name": "Python 3",
   "language": "python",
   "name": "python3"
  },
  "language_info": {
   "codemirror_mode": {
    "name": "ipython",
    "version": 3
   },
   "file_extension": ".py",
   "mimetype": "text/x-python",
   "name": "python",
   "nbconvert_exporter": "python",
   "pygments_lexer": "ipython3",
   "version": "3.7.4"
  }
 },
 "nbformat": 4,
 "nbformat_minor": 2
}
