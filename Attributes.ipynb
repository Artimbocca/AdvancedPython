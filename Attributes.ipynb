{
 "cells": [
  {
   "cell_type": "markdown",
   "metadata": {},
   "source": [
    "## Properties\n",
    "A property is a data descriptor that triggers function calls upon access to an attribute. \n",
    "\n",
    "Its signature is: `property(fget=None, fset=None, fdel=None, doc=None)`"
   ]
  },
  {
   "cell_type": "code",
   "execution_count": 50,
   "metadata": {},
   "outputs": [
    {
     "data": {
      "text/plain": [
       "{'_C__x': 9}"
      ]
     },
     "execution_count": 50,
     "metadata": {},
     "output_type": "execute_result"
    }
   ],
   "source": [
    "class C:\n",
    "    def getx(self): return self.__x\n",
    "    def setx(self, value): self.__x = value\n",
    "    def delx(self): del self.__x\n",
    "    x = property(getx, setx, delx, \"I'm the 'x' property.\")\n",
    "c = C()\n",
    "c.x = 9\n",
    "c.__dict__   # note how the meant-to-be-private __x becomes _C__x "
   ]
  },
  {
   "cell_type": "code",
   "execution_count": null,
   "metadata": {},
   "outputs": [],
   "source": [
    "The alternative is to use the property decorator:"
   ]
  },
  {
   "cell_type": "code",
   "execution_count": 53,
   "metadata": {},
   "outputs": [
    {
     "name": "stdout",
     "output_type": "stream",
     "text": [
      "Help on property:\n",
      "\n",
      "    I'm the 'x' property.\n",
      "\n"
     ]
    },
    {
     "data": {
      "text/plain": [
       "<property at 0x262bd3e3688>"
      ]
     },
     "execution_count": 53,
     "metadata": {},
     "output_type": "execute_result"
    }
   ],
   "source": [
    "class C: \n",
    "    def __init__(self):  \n",
    "        self._x = None \n",
    "    @property\n",
    "    def x(self):                # this defines the getter (__get__ method), with the method name as attribute\n",
    "        \"I'm the 'x' property.\"\n",
    "        return self._x\n",
    "    @x.setter                   # property.setter stores its arg (a function) as the __set__ method \n",
    "    def x(self, value):   \n",
    "        self._x = value \n",
    "    @x.deleter\n",
    "    def x(self): \n",
    "        del self._x\n",
    "help(C.x)\n",
    "C.x"
   ]
  },
  {
   "cell_type": "code",
   "execution_count": 56,
   "metadata": {},
   "outputs": [
    {
     "name": "stdout",
     "output_type": "stream",
     "text": [
      "42\n"
     ]
    },
    {
     "ename": "AttributeError",
     "evalue": "can't set attribute",
     "output_type": "error",
     "traceback": [
      "\u001b[1;31m---------------------------------------------------------------------------\u001b[0m",
      "\u001b[1;31mAttributeError\u001b[0m                            Traceback (most recent call last)",
      "\u001b[1;32m<ipython-input-56-6173d2867573>\u001b[0m in \u001b[0;36m<module>\u001b[1;34m\u001b[0m\n\u001b[0;32m     13\u001b[0m \u001b[0mc\u001b[0m \u001b[1;33m=\u001b[0m \u001b[0mC\u001b[0m\u001b[1;33m(\u001b[0m\u001b[1;33m)\u001b[0m\u001b[1;33m\u001b[0m\u001b[1;33m\u001b[0m\u001b[0m\n\u001b[0;32m     14\u001b[0m \u001b[0mprint\u001b[0m\u001b[1;33m(\u001b[0m\u001b[0mc\u001b[0m\u001b[1;33m.\u001b[0m\u001b[0mx\u001b[0m\u001b[1;33m)\u001b[0m\u001b[1;33m\u001b[0m\u001b[1;33m\u001b[0m\u001b[0m\n\u001b[1;32m---> 15\u001b[1;33m \u001b[0mc\u001b[0m\u001b[1;33m.\u001b[0m\u001b[0mx\u001b[0m \u001b[1;33m=\u001b[0m \u001b[1;36m9\u001b[0m\u001b[1;33m\u001b[0m\u001b[1;33m\u001b[0m\u001b[0m\n\u001b[0m",
      "\u001b[1;31mAttributeError\u001b[0m: can't set attribute"
     ]
    }
   ],
   "source": [
    "class C: \n",
    "    def __init__(self):  \n",
    "        self._x = None \n",
    "    @property\n",
    "    def x(self):                # this makes x into a constant\n",
    "        return 42\n",
    "    #@x.setter                  # by not adding a setter, the attribute becomes read_only \n",
    "    #def x(self, value):   \n",
    "    #    self._x = value \n",
    "    @x.deleter\n",
    "    def x(self): \n",
    "        del self._x\n",
    "c = C()\n",
    "print(c.x)\n",
    "c.x = 9"
   ]
  },
  {
   "cell_type": "markdown",
   "metadata": {},
   "source": [
    "Properties are very useful, for instance to add checks on attribute values. They are an example of a `descriptor` type. A descriptor type is any type/class that provides a `__get__` and/or a `__set__` method (plus optionally a __del__ method). Attribute lookup on an object always checks whether the class of the object stores a descriptor-type object on that attribute, and if so uses that descriptor object to handle getting and/or setting of values. It is up to you where the actual value is stored: this will normally occur on the object concerned, under the name of the attribute or some \"private\" name, but it can also be stored in some other datastructure kept on or managed by the descriptor object. "
   ]
  },
  {
   "cell_type": "code",
   "execution_count": null,
   "metadata": {},
   "outputs": [],
   "source": [
    "class Property(object):\n",
    "    \"Emulate PyProperty_Type() in Objects/descrobject.c\"\n",
    "\n",
    "    def __init__(self, fget=None, fset=None, fdel=None, doc=None):\n",
    "        self.fget = fget\n",
    "        self.fset = fset\n",
    "        self.fdel = fdel\n",
    "        if doc is None and fget is not None:\n",
    "            doc = fget.__doc__\n",
    "        self.__doc__ = doc\n",
    "\n",
    "    def __get__(self, obj, objtype=None):\n",
    "        if obj is None:\n",
    "            return self\n",
    "        if self.fget is None:\n",
    "            raise AttributeError(\"unreadable attribute\")\n",
    "        return self.fget(obj)\n",
    "\n",
    "    def __set__(self, obj, value):\n",
    "        if self.fset is None:\n",
    "            raise AttributeError(\"can't set attribute\")\n",
    "        self.fset(obj, value)\n",
    "\n",
    "    def __delete__(self, obj):\n",
    "        if self.fdel is None:\n",
    "            raise AttributeError(\"can't delete attribute\")\n",
    "        self.fdel(obj)\n",
    "\n",
    "    def getter(self, fget):\n",
    "        return type(self)(fget, self.fset, self.fdel, self.__doc__)\n",
    "\n",
    "    def setter(self, fset):\n",
    "        return type(self)(self.fget, fset, self.fdel, self.__doc__)\n",
    "\n",
    "    def deleter(self, fdel):\n",
    "        return type(self)(self.fget, self.fset, fdel, self.__doc__)"
   ]
  },
  {
   "cell_type": "markdown",
   "metadata": {},
   "source": [
    "## Attribute lookup"
   ]
  },
  {
   "cell_type": "code",
   "execution_count": 23,
   "metadata": {},
   "outputs": [],
   "source": [
    "class Descriptor:   # indirect way of getting __dict__ is just for emulate \n",
    "    def __init__(self, name):\n",
    "        self.name = name\n",
    "    def __get__(self, obj, type=None):\n",
    "        print(\"get value\", type)\n",
    "        return obj.__dict__[self.name] if obj else self\n",
    "    def __set__(self, obj, value):\n",
    "        obj.__dict__[self.name] = value\n",
    "        print(\"value set\")"
   ]
  },
  {
   "cell_type": "markdown",
   "metadata": {},
   "source": [
    "Attribute lookup is handled by `__getattribute__(self, att)`. The first step is to look for `att` on the class of `self`. If it is found on the class, directly or inherited from its bases, and its value is an overriding descriptor, i.e. an object with a `__set__` method, that descriptor object will be used to get/set the attribute. If no such descriptor is found, the attribute will be searched for on the object itself. If that also fails, the class of the object (and its supers) will again be searched for the att. If the value is a descriptor (this second time a non-overriding descriptor with just a `__get__` will suffice) that descriptor will again be used to get the proper value (which as we will see will probably be a method of some sort), else the value is simply returned. "
   ]
  },
  {
   "cell_type": "code",
   "execution_count": 24,
   "metadata": {},
   "outputs": [
    {
     "name": "stdout",
     "output_type": "stream",
     "text": [
      "value set\n",
      "get value <class '__main__.A'>\n",
      "9 {'b': 9}\n",
      "B.b\n"
     ]
    },
    {
     "data": {
      "text/plain": [
       "({'b': 3}, 3)"
      ]
     },
     "execution_count": 24,
     "metadata": {},
     "output_type": "execute_result"
    }
   ],
   "source": [
    "class A:\n",
    "    b = Descriptor('b')\n",
    "class B(A):\n",
    "    def b(self): print(\"B.b\")   # descriptor shadowed in B objects \n",
    "a = A()\n",
    "b = B()\n",
    "a.b = 9                         # value set by descriptor\n",
    "print (a.b, a.__dict__)         # stored on object a\n",
    "b.b()                           # calls c method on B (using the __get__ of function stored there, as we will see)\n",
    "b.b = 9                         # this value will be stored on b and shadow the synonymous method on B\n",
    "b.__dict__['b']= 3\n",
    "b.__dict__, b.b\n",
    "#b()"
   ]
  },
  {
   "cell_type": "code",
   "execution_count": 65,
   "metadata": {},
   "outputs": [
    {
     "name": "stdout",
     "output_type": "stream",
     "text": [
      "{'b': 9} 9\n",
      "now access to b is handled by descriptor: notice message this time!\n",
      "get value\n",
      "{'b': 9} 9\n"
     ]
    }
   ],
   "source": [
    "class A:\n",
    "    pass\n",
    "a = A()\n",
    "a.b = 9\n",
    "print(a.__dict__, a.b)\n",
    "A.b = Descriptor('b')\n",
    "print('now access to b is handled by descriptor: notice message this time!')\n",
    "print(a.__dict__, a.b)"
   ]
  },
  {
   "cell_type": "markdown",
   "metadata": {},
   "source": [
    "Let's try to emulate the (builtin) attribute lookup used by Python. We first need a new Type to handle `class.__getattribute__(att)`.\n",
    "\n",
    "**NOTE**: You may first want read the [Classes](Classes.ipynb) notebook if you are not familiar with metaclasses. And yes, I know this creates a cycle, as in the classes notebook I give an example that relies on Descriptors. You'll figure it out."
   ]
  },
  {
   "cell_type": "code",
   "execution_count": 65,
   "metadata": {},
   "outputs": [],
   "source": [
    "class Type(type):\n",
    "    ''' Emulate attribute lookup on class'''\n",
    "    def __getattribute__(cls, att):  # self is a class        \n",
    "        if att in type.__getattribute__(cls,'__dict__'):\n",
    "            v = type.__getattribute__(cls,'__dict__')[att]\n",
    "            if hasattr(v,'__get__'):\n",
    "                print(f'found __get__ for {att} on {cls}')\n",
    "                return v.__get__(None, cls)\n",
    "            else:\n",
    "                return v\n",
    "        else:            \n",
    "            print('checking mro for', att)\n",
    "            mro = type.__getattribute__(cls,'__mro__')[1:]\n",
    "            for cl in mro:\n",
    "                print(cl)\n",
    "                return Type.__getattribute__(cl,att)\n",
    "            else:\n",
    "                raise AttributeError(f'{att} not found ..')"
   ]
  },
  {
   "cell_type": "code",
   "execution_count": 78,
   "metadata": {},
   "outputs": [],
   "source": [
    "class Descriptor:   # need to adapt to prevent __dict__ lookup to use my emulated __getattribute__ below,\n",
    "                    # which does not know how to handle dunders (it only handles user attributes in __dict__)\n",
    "    def __init__(self, name):\n",
    "        self.name = name\n",
    "    def __get__(self, obj, type=None):\n",
    "        print(\"get value\", type)\n",
    "        return object.__getattribute__(obj,'__dict__')[self.name] if obj else self\n",
    "    def __set__(self, obj, value):\n",
    "        object.__getattribute__(obj,'__dict__')[self.name] = value\n",
    "        print(\"value set\")"
   ]
  },
  {
   "cell_type": "code",
   "execution_count": 79,
   "metadata": {},
   "outputs": [
    {
     "name": "stdout",
     "output_type": "stream",
     "text": [
      "found __get__ for c on <class '__main__.Foo'>\n",
      "c ...\n",
      "found __get__ for a on <class '__main__.Foo'>\n",
      "get value <class '__main__.Foo'>\n"
     ]
    },
    {
     "data": {
      "text/plain": [
       "<__main__.Descriptor at 0x1707dfc6fc8>"
      ]
     },
     "execution_count": 79,
     "metadata": {},
     "output_type": "execute_result"
    }
   ],
   "source": [
    "class Foo(metaclass=Type):\n",
    "    @staticmethod\n",
    "    def c(): print('c ...')\n",
    "    def b(self): print('b ...')\n",
    "    a = Descriptor('a')\n",
    "    pass\n",
    "Foo.c()\n",
    "Foo.a"
   ]
  },
  {
   "cell_type": "code",
   "execution_count": 80,
   "metadata": {},
   "outputs": [],
   "source": [
    "class Object(metaclass=Type):\n",
    "    ''' Emulate attribute lookup on class'''\n",
    "    def __getattribute__(self, att): \n",
    "        dict = type.__getattribute__(type(self),'__dict__')\n",
    "        if att in dict and hasattr(dict[att], '__set__'):\n",
    "            print(f'1 found __set__ for {att} on {type(self)}')\n",
    "            return dict[att].__get__(self, None)\n",
    "        elif att in object.__getattribute__(self,'__dict__'):\n",
    "            print(f'2 looking for {att} on {self}')\n",
    "            return self.__dict__[att]\n",
    "        else:\n",
    "            v = Type.__getattribute__(type(self),att)\n",
    "            print(f'3 looking for __get__ on {att} of {type(self)}')\n",
    "            if hasattr(v,'__get__'):\n",
    "                print(f'4 found __get__ for {att} on {type(self)}: v{v}')\n",
    "                return v.__get__(self, type(self))\n",
    "            else:\n",
    "                return v          "
   ]
  },
  {
   "cell_type": "code",
   "execution_count": 93,
   "metadata": {},
   "outputs": [
    {
     "name": "stdout",
     "output_type": "stream",
     "text": [
      "found __get__ for a on <class '__main__.Foo'>\n",
      "get value <class '__main__.Foo'>\n",
      "found __get__ for b on <class '__main__.Foo'>\n",
      "3 looking for __get__ on b of <class '__main__.Foo'>\n",
      "4 found __get__ for b on <class '__main__.Foo'>: v<function Foo.b at 0x000001707E004DC8>\n",
      "b ... <__main__.Foo object at 0x000001707E0014C8>\n",
      "found __get__ for c on <class '__main__.Foo'>\n",
      "3 looking for __get__ on c of <class '__main__.Foo'>\n",
      "4 found __get__ for c on <class '__main__.Foo'>: v<bound method Foo.c of <class '__main__.Foo'>>\n",
      "c ... <class '__main__.Foo'>\n",
      "value set\n",
      "1 found __set__ for a on <class '__main__.Foo'>\n",
      "get value None\n"
     ]
    },
    {
     "data": {
      "text/plain": [
       "3"
      ]
     },
     "execution_count": 93,
     "metadata": {},
     "output_type": "execute_result"
    }
   ],
   "source": [
    "class Foo(Object):\n",
    "    @classmethod\n",
    "    def c(cls): \n",
    "        print('c ...', cls)\n",
    "    def b(self): print('b ...', self)\n",
    "    a = Descriptor('a')\n",
    "    pass\n",
    "\n",
    "Foo.a\n",
    "f = Foo()\n",
    "f.b()\n",
    "f.c()\n",
    "f.a = 3\n",
    "f.a"
   ]
  },
  {
   "cell_type": "code",
   "execution_count": 90,
   "metadata": {},
   "outputs": [
    {
     "data": {
      "text/plain": [
       "<function __main__.foo()>"
      ]
     },
     "execution_count": 90,
     "metadata": {},
     "output_type": "execute_result"
    }
   ],
   "source": [
    "def foo(): print(\"fdsfds\")\n",
    "fm = staticmethod(foo)\n",
    "fm.__get__(object(), type)\n"
   ]
  },
  {
   "cell_type": "code",
   "execution_count": null,
   "metadata": {},
   "outputs": [],
   "source": []
  }
 ],
 "metadata": {
  "kernelspec": {
   "display_name": "Python 3",
   "language": "python",
   "name": "python3"
  },
  "language_info": {
   "codemirror_mode": {
    "name": "ipython",
    "version": 3
   },
   "file_extension": ".py",
   "mimetype": "text/x-python",
   "name": "python",
   "nbconvert_exporter": "python",
   "pygments_lexer": "ipython3",
   "version": "3.7.4"
  }
 },
 "nbformat": 4,
 "nbformat_minor": 2
}
