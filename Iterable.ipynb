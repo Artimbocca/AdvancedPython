{
 "cells": [
  {
   "cell_type": "markdown",
   "metadata": {},
   "source": [
    "## Iterables, iterators and generators"
   ]
  },
  {
   "cell_type": "code",
   "execution_count": 78,
   "metadata": {},
   "outputs": [
    {
     "name": "stdout",
     "output_type": "stream",
     "text": [
      "1\n",
      "4\n",
      "5\n",
      "10\n"
     ]
    }
   ],
   "source": [
    "for x in [1,4,5,10]: print (x)"
   ]
  },
  {
   "cell_type": "code",
   "execution_count": 87,
   "metadata": {},
   "outputs": [
    {
     "name": "stdout",
     "output_type": "stream",
     "text": [
      "GOOGLE\n",
      "YAHOO\n"
     ]
    }
   ],
   "source": [
    "for key in {'GOOGLE': 490.10, 'YAHOO': 21.71}:\n",
    "    print(key)"
   ]
  },
  {
   "cell_type": "code",
   "execution_count": 79,
   "metadata": {},
   "outputs": [
    {
     "name": "stdout",
     "output_type": "stream",
     "text": [
      "M\n",
      "a\n",
      "r\n",
      "s\n",
      "!\n"
     ]
    }
   ],
   "source": [
    "for c in \"Mars!\": print(c)"
   ]
  },
  {
   "cell_type": "markdown",
   "metadata": {},
   "source": [
    "Statements such as `loop` can be applied to many different types, as long as object is iterable, i.e. returns an iterator when asked for one using the `obj.__iter__()`method or the equivsalent builtin function `iter`: `iter(obj)` "
   ]
  },
  {
   "cell_type": "code",
   "execution_count": 88,
   "metadata": {},
   "outputs": [
    {
     "data": {
      "text/plain": [
       "(<list_iterator at 0x1d41c92cc08>,\n",
       " <range_iterator at 0x1d41b81a310>,\n",
       " <str_iterator at 0x1d41c92cc48>)"
      ]
     },
     "execution_count": 88,
     "metadata": {},
     "output_type": "execute_result"
    }
   ],
   "source": [
    "iter([1,2,3]), iter(range(9)), iter(\"dsadsa\")"
   ]
  },
  {
   "cell_type": "code",
   "execution_count": 90,
   "metadata": {},
   "outputs": [
    {
     "data": {
      "text/plain": [
       "(<list_iterator at 0x1d41c938c88>,\n",
       " <range_iterator at 0x1d41b81a4b0>,\n",
       " <str_iterator at 0x1d41c938e48>)"
      ]
     },
     "execution_count": 90,
     "metadata": {},
     "output_type": "execute_result"
    }
   ],
   "source": [
    "[1,2,3].__iter__(), range(9).__iter__(), \"dsadsa\".__iter__()"
   ]
  },
  {
   "cell_type": "markdown",
   "metadata": {},
   "source": [
    "An iterator in turn has to support `iterator.__next__()` or the equivsalent builtin function `next`: `next(iterator)`  "
   ]
  },
  {
   "cell_type": "code",
   "execution_count": 94,
   "metadata": {},
   "outputs": [
    {
     "data": {
      "text/plain": [
       "[1, 0, 'd']"
      ]
     },
     "execution_count": 94,
     "metadata": {},
     "output_type": "execute_result"
    }
   ],
   "source": [
    "iters = iter([1,2,3]), iter(range(9)), iter(\"dsadsa\")\n",
    "[next(it) for it in iters]"
   ]
  },
  {
   "cell_type": "markdown",
   "metadata": {},
   "source": [
    "The iterator protocol comes with two additional conditions: when running out of nexts, the iterator should raise the `StopIteration` exception, and the iterator should be iterable itself, i.e. reurn an iterator when `iter` is applied to it. An iterator will normally return itself in these cases. "
   ]
  },
  {
   "cell_type": "code",
   "execution_count": 96,
   "metadata": {},
   "outputs": [
    {
     "data": {
      "text/plain": [
       "([<list_iterator at 0x1d41c95c588>,\n",
       "  <range_iterator at 0x1d41b814cf0>,\n",
       "  <str_iterator at 0x1d41c95c708>],\n",
       " (<list_iterator at 0x1d41c95c588>,\n",
       "  <range_iterator at 0x1d41b814cf0>,\n",
       "  <str_iterator at 0x1d41c95c708>))"
      ]
     },
     "execution_count": 96,
     "metadata": {},
     "output_type": "execute_result"
    }
   ],
   "source": [
    "[iter(it) for it in iters], iters"
   ]
  },
  {
   "cell_type": "code",
   "execution_count": 110,
   "metadata": {},
   "outputs": [
    {
     "name": "stdout",
     "output_type": "stream",
     "text": [
      "<list_iterator object at 0x000001D41C95C588> is exhausted\n",
      "<range_iterator object at 0x000001D41B814CF0> is exhausted\n",
      "<str_iterator object at 0x000001D41C95C708> is exhausted\n"
     ]
    }
   ],
   "source": [
    "for it in iters:\n",
    "    try:\n",
    "        while True:\n",
    "            print(next(it), end=' ')\n",
    "    except StopIteration:\n",
    "        print(it, 'is exhausted')"
   ]
  },
  {
   "cell_type": "code",
   "execution_count": 100,
   "metadata": {},
   "outputs": [
    {
     "name": "stdout",
     "output_type": "stream",
     "text": [
      "<list_iterator object at 0x000001D41C95C588> is exhausted\n",
      "<range_iterator object at 0x000001D41B814CF0> is exhausted\n",
      "<str_iterator object at 0x000001D41C95C708> is exhausted\n"
     ]
    }
   ],
   "source": [
    "# if try this run again, you'll see they remain exhausted:\n",
    "for it in iters:\n",
    "    try:\n",
    "        while True:\n",
    "            print(next(it))\n",
    "    except StopIteration:\n",
    "        print(it, 'is exhausted')"
   ]
  },
  {
   "cell_type": "code",
   "execution_count": 109,
   "metadata": {},
   "outputs": [
    {
     "name": "stdout",
     "output_type": "stream",
     "text": [
      "1 2 3 <list_iterator object at 0x000001D41C8DB948> is exhausted\n",
      "0 1 2 3 4 5 6 7 8 <range_iterator object at 0x000001D41AA259F0> is exhausted\n",
      "d s a d s a <str_iterator object at 0x000001D41C8DBC48> is exhausted\n"
     ]
    }
   ],
   "source": [
    "# of course we can make new iterators whenever starting the loop:\n",
    "for it in iter([1,2,3]), iter(range(9)), iter(\"dsadsa\"):\n",
    "    try:\n",
    "        while True:\n",
    "            print(next(it), end=' ')\n",
    "    except StopIteration:\n",
    "        print(it, 'is exhausted')"
   ]
  },
  {
   "cell_type": "code",
   "execution_count": 117,
   "metadata": {},
   "outputs": [
    {
     "name": "stdout",
     "output_type": "stream",
     "text": [
      "0 1 2 3 4 \n",
      "0 1 2 3 4 "
     ]
    }
   ],
   "source": [
    "for x in range(5): print(x, end=' ')\n",
    "print()   \n",
    "_it = iter(range(5))\n",
    "while True:\n",
    "    try: x = next(_it)\n",
    "    except StopIteration: break\n",
    "    print(x, end=' ')"
   ]
  },
  {
   "cell_type": "code",
   "execution_count": 125,
   "metadata": {},
   "outputs": [
    {
     "name": "stdout",
     "output_type": "stream",
     "text": [
      "4\n",
      "3\n",
      "2\n",
      "1\n"
     ]
    }
   ],
   "source": [
    "# Build our own iterator (and iterable)\n",
    "\n",
    "class Countdown(object):\n",
    "    def __init__(self,start):\n",
    "        self.count = start\n",
    "    def __iter__(self):\n",
    "        return self\n",
    "    def __next__(self):\n",
    "        if self.count <= 0:\n",
    "            raise StopIteration\n",
    "        r = self.count\n",
    "        self.count -= 1\n",
    "        return r\n",
    "for x in Countdown(4): print(x)"
   ]
  },
  {
   "cell_type": "markdown",
   "metadata": {},
   "source": [
    "### Comprehensions and generator expressions\n",
    "Essence of iterators is **laziness**: the next value is generated on demand, does not have to be there already. The for loop is often used not just to run through a sequence, but transform the elements in that sequence as one step in a processing pipeline. The drawback of using that statement is that it is setup to handle the whole sequence in one run (interrupting and proceeding later can be done, but requires lot of user administration and is clumsy to say the least). Would it not be nice if the for loop itself could also be lazy, and itself produce an iterator that waits for a next call before doing its thing to the next item in the sequence (iterator) it is working on? \n",
    "\n",
    "Python allows the use of `for .. in ..` not just as a statement, but also as an operator in a generator expression. "
   ]
  },
  {
   "cell_type": "code",
   "execution_count": 135,
   "metadata": {},
   "outputs": [
    {
     "name": "stdout",
     "output_type": "stream",
     "text": [
      "Value of n: 100\n",
      "10\n",
      "Value of n: 1\n",
      "10\n",
      "Value of c: 100\n",
      "Value of c: 100\n"
     ]
    }
   ],
   "source": [
    "# say I want to add up my counter values:\n",
    "n = 100\n",
    "print('Value of n:', n)\n",
    "l = []    \n",
    "for n in CountDown(4):\n",
    "    l.append(n)\n",
    "print(sum(l))\n",
    "print('Value of n:', n)  # side effect on my global n!\n",
    "# or:\n",
    "tot = 0    \n",
    "for n in CountDown(4):\n",
    "    tot += n\n",
    "print(tot)\n",
    "c = 100\n",
    "print('Value of c:', c)\n",
    "# much nicer if I could just say:\n",
    "sum(c for c in CountDown(4))\n",
    "print('Value of c:', c)  # no effect on my global c!"
   ]
  },
  {
   "cell_type": "markdown",
   "metadata": {},
   "source": [
    "Easier to formulate and read, a bit faster, keeps \"index\" variables such as c local, allows functional composition, i.e use in more complex expressions."
   ]
  },
  {
   "cell_type": "code",
   "execution_count": 136,
   "metadata": {},
   "outputs": [
    {
     "data": {
      "text/plain": [
       "(<generator object <genexpr> at 0x000001D41CD3ADC8>,\n",
       " <generator object <genexpr> at 0x000001D41CD3AEC8>)"
      ]
     },
     "execution_count": 136,
     "metadata": {},
     "output_type": "execute_result"
    }
   ],
   "source": [
    "(n for n in CountDown(7)), iter(n for n in CountDown(7))"
   ]
  },
  {
   "cell_type": "code",
   "execution_count": 139,
   "metadata": {},
   "outputs": [
    {
     "data": {
      "text/plain": [
       "([7, 6, 5, 4, 3, 2, 1],\n",
       " [<generator object <genexpr> at 0x000001D41CD3AF48>],\n",
       " [7, 6, 5, 4, 3, 2, 1],\n",
       " {1, 2, 3, 4, 5, 6, 7})"
      ]
     },
     "execution_count": 139,
     "metadata": {},
     "output_type": "execute_result"
    }
   ],
   "source": [
    "list(n for n in CountDown(7)), [(n for n in CountDown(7))], [n for n in CountDown(7)], {n for n in CountDown(7)}"
   ]
  },
  {
   "cell_type": "markdown",
   "metadata": {},
   "source": [
    "The last two expressions above are examples of resp. **list comprehension** and **set comprehension**. The list or set delimiters basically force the generator expression to be run and return a list or set with the values returned. Note that by putting the parentheses around expression, it becomes an object in a one-item list! \n",
    "Dictionary comprehension is also possible:"
   ]
  },
  {
   "cell_type": "code",
   "execution_count": 141,
   "metadata": {},
   "outputs": [
    {
     "data": {
      "text/plain": [
       "({'A': 1, 'B': 2, 'C': 3}, {'D': 0, 'I': 0, 'C': 0, 'T': 0})"
      ]
     },
     "execution_count": 141,
     "metadata": {},
     "output_type": "execute_result"
    }
   ],
   "source": [
    "keys = ['a', 'b', 'c']\n",
    "values = [1, 2, 3]\n",
    "{k.upper():v for k,v in zip(keys, values)}, {k.upper():0 for k in 'dict'}"
   ]
  },
  {
   "cell_type": "code",
   "execution_count": 149,
   "metadata": {},
   "outputs": [
    {
     "data": {
      "text/plain": [
       "(<zip at 0x1d41ce423c8>,\n",
       " <zip at 0x1d41ce423c8>,\n",
       " [('a', 1), ('b', 2), ('c', 3)],\n",
       " ())"
      ]
     },
     "execution_count": 149,
     "metadata": {},
     "output_type": "execute_result"
    }
   ],
   "source": [
    "# note that zip also returns an iterator:\n",
    "z = zip(keys, values)\n",
    "z, iter(z), list(z), tuple(z)  # exhausted when called a second time"
   ]
  },
  {
   "cell_type": "code",
   "execution_count": 162,
   "metadata": {},
   "outputs": [
    {
     "name": "stdout",
     "output_type": "stream",
     "text": [
      "<zip object at 0x000001D41C8F8548> contains ('a', 1) ('b', 2) ('c', 3)\n"
     ]
    },
    {
     "data": {
      "text/plain": [
       "[('a', 'b', 'c'), (1, 2, 3)]"
      ]
     },
     "execution_count": 162,
     "metadata": {},
     "output_type": "execute_result"
    }
   ],
   "source": [
    "[tuple(keys), tuple(values)] == [*zip(*zip(keys, values))]\n",
    "print(zip(keys, values), 'contains', *zip(keys, values))\n",
    "[*zip(*zip(keys, values))]"
   ]
  },
  {
   "cell_type": "code",
   "execution_count": 168,
   "metadata": {},
   "outputs": [
    {
     "data": {
      "text/plain": [
       "(range(0, 9), <range_iterator at 0x1d41b81a850>)"
      ]
     },
     "execution_count": 168,
     "metadata": {},
     "output_type": "execute_result"
    }
   ],
   "source": [
    "range(9), iter(range(9))"
   ]
  },
  {
   "cell_type": "code",
   "execution_count": 173,
   "metadata": {},
   "outputs": [
    {
     "data": {
      "text/plain": [
       "(range(0, 9), <range_iterator at 0x1d41b81aa50>, 0, 1, 2, 3, 4, 5, 6, 7, 8)"
      ]
     },
     "execution_count": 173,
     "metadata": {},
     "output_type": "execute_result"
    }
   ],
   "source": [
    "range(9), iter(range(9)), *range(9)"
   ]
  },
  {
   "cell_type": "code",
   "execution_count": 176,
   "metadata": {},
   "outputs": [
    {
     "data": {
      "text/plain": [
       "[0, 2, 4, 6, 8, 10, 12, 14, 16]"
      ]
     },
     "execution_count": 176,
     "metadata": {},
     "output_type": "execute_result"
    }
   ],
   "source": [
    "[x*2 for x in range(9)]"
   ]
  },
  {
   "cell_type": "code",
   "execution_count": 175,
   "metadata": {},
   "outputs": [
    {
     "data": {
      "text/plain": [
       "[2, 4, 8, 10, 14, 16]"
      ]
     },
     "execution_count": 175,
     "metadata": {},
     "output_type": "execute_result"
    }
   ],
   "source": [
    "[x*2 for x in range(9) if x % 3]"
   ]
  },
  {
   "cell_type": "code",
   "execution_count": 177,
   "metadata": {},
   "outputs": [
    {
     "data": {
      "text/plain": [
       "[0, 0, 1, 2, 2, 4, 3, 6, 4, 8, 5, 10, 6, 12, 7, 14, 8, 16]"
      ]
     },
     "execution_count": 177,
     "metadata": {},
     "output_type": "execute_result"
    }
   ],
   "source": [
    "[x*y for x in range(9) for y in range(1,3)]"
   ]
  },
  {
   "cell_type": "code",
   "execution_count": 178,
   "metadata": {},
   "outputs": [
    {
     "data": {
      "text/plain": [
       "[1, 2, 2, 4, 4, 8, 5, 10, 7, 14, 8, 16]"
      ]
     },
     "execution_count": 178,
     "metadata": {},
     "output_type": "execute_result"
    }
   ],
   "source": [
    "[x*y for x in range(9) for y in range(1,3) if x % 3]"
   ]
  },
  {
   "cell_type": "code",
   "execution_count": 181,
   "metadata": {},
   "outputs": [
    {
     "data": {
      "text/plain": [
       "[100, 2, 2, 100, 4, 8, 5, 10, 7, 14, 8, 16]"
      ]
     },
     "execution_count": 181,
     "metadata": {},
     "output_type": "execute_result"
    }
   ],
   "source": [
    "[x*y if x != y else 100 for x in range(9) for y in range(1,3) if x % 3]"
   ]
  },
  {
   "cell_type": "code",
   "execution_count": 182,
   "metadata": {},
   "outputs": [
    {
     "data": {
      "text/plain": [
       "{2, 4, 5, 7, 8, 10, 14, 16, 100}"
      ]
     },
     "execution_count": 182,
     "metadata": {},
     "output_type": "execute_result"
    }
   ],
   "source": [
    "{x*y if x != y else 100 for x in range(9) for y in range(1,3) if x % 3}"
   ]
  },
  {
   "cell_type": "code",
   "execution_count": 185,
   "metadata": {},
   "outputs": [
    {
     "data": {
      "text/plain": [
       "[0, 2, 4, 6, 8, 10, 12, 14, 16]"
      ]
     },
     "execution_count": 185,
     "metadata": {},
     "output_type": "execute_result"
    }
   ],
   "source": [
    "map(lambda x,y: x+y, range(9), range(9))"
   ]
  },
  {
   "cell_type": "code",
   "execution_count": 185,
   "metadata": {},
   "outputs": [
    {
     "data": {
      "text/plain": [
       "[0, 2, 4, 6, 8, 10, 12, 14, 16]"
      ]
     },
     "execution_count": 185,
     "metadata": {},
     "output_type": "execute_result"
    }
   ],
   "source": [
    "list(map(lambda x,y: x+y, range(9), range(9)))"
   ]
  },
  {
   "cell_type": "code",
   "execution_count": 188,
   "metadata": {
    "scrolled": true
   },
   "outputs": [
    {
     "data": {
      "text/plain": [
       "<filter at 0x1d41c93e288>"
      ]
     },
     "execution_count": 188,
     "metadata": {},
     "output_type": "execute_result"
    }
   ],
   "source": [
    "filter(lambda x: x % 3, range(9))"
   ]
  },
  {
   "cell_type": "code",
   "execution_count": 187,
   "metadata": {
    "scrolled": true
   },
   "outputs": [
    {
     "data": {
      "text/plain": [
       "[1, 2, 4, 5, 7, 8]"
      ]
     },
     "execution_count": 187,
     "metadata": {},
     "output_type": "execute_result"
    }
   ],
   "source": [
    "list(filter(lambda x: x % 3, range(9)))"
   ]
  },
  {
   "cell_type": "markdown",
   "metadata": {},
   "source": [
    "### Generators\n",
    "More convenient way to create iterator."
   ]
  },
  {
   "cell_type": "code",
   "execution_count": 190,
   "metadata": {},
   "outputs": [
    {
     "data": {
      "text/plain": [
       "[5, 4, 3, 2, 1]"
      ]
     },
     "execution_count": 190,
     "metadata": {},
     "output_type": "execute_result"
    }
   ],
   "source": [
    "def countdown(n): # generator function, produces generator object\n",
    "    while n > 0:\n",
    "        yield n\n",
    "        n -= 1\n",
    "[x for x in countdown(5)]"
   ]
  },
  {
   "cell_type": "code",
   "execution_count": 192,
   "metadata": {},
   "outputs": [
    {
     "name": "stdout",
     "output_type": "stream",
     "text": [
      "5\n",
      "4\n",
      "3\n",
      "2\n",
      "1\n"
     ]
    },
    {
     "ename": "StopIteration",
     "evalue": "",
     "output_type": "error",
     "traceback": [
      "\u001b[1;31m---------------------------------------------------------------------------\u001b[0m",
      "\u001b[1;31mStopIteration\u001b[0m                             Traceback (most recent call last)",
      "\u001b[1;32m<ipython-input-192-30f918272fbe>\u001b[0m in \u001b[0;36m<module>\u001b[1;34m\u001b[0m\n\u001b[0;32m      1\u001b[0m \u001b[0mgen\u001b[0m \u001b[1;33m=\u001b[0m \u001b[0mcountdown\u001b[0m\u001b[1;33m(\u001b[0m\u001b[1;36m5\u001b[0m\u001b[1;33m)\u001b[0m\u001b[1;33m\u001b[0m\u001b[1;33m\u001b[0m\u001b[0m\n\u001b[1;32m----> 2\u001b[1;33m \u001b[1;32mwhile\u001b[0m \u001b[1;32mTrue\u001b[0m\u001b[1;33m:\u001b[0m \u001b[0mprint\u001b[0m\u001b[1;33m(\u001b[0m\u001b[0mnext\u001b[0m\u001b[1;33m(\u001b[0m\u001b[0mgen\u001b[0m\u001b[1;33m)\u001b[0m\u001b[1;33m)\u001b[0m\u001b[1;33m\u001b[0m\u001b[1;33m\u001b[0m\u001b[0m\n\u001b[0m",
      "\u001b[1;31mStopIteration\u001b[0m: "
     ]
    }
   ],
   "source": [
    "gen = countdown(5)\n",
    "while True: print(next(gen))"
   ]
  },
  {
   "cell_type": "code",
   "execution_count": 193,
   "metadata": {},
   "outputs": [
    {
     "data": {
      "text/plain": [
       "('enter', 'exit')"
      ]
     },
     "execution_count": 193,
     "metadata": {},
     "output_type": "execute_result"
    }
   ],
   "source": [
    "def simple():\n",
    "    yield 'enter'\n",
    "    yield 'exit'\n",
    "s = simple()\n",
    "next(s), next(s)"
   ]
  },
  {
   "cell_type": "code",
   "execution_count": 195,
   "metadata": {},
   "outputs": [
    {
     "data": {
      "text/plain": [
       "['Essence', 'of', 'iterators', 'is', 'laziness']"
      ]
     },
     "execution_count": 195,
     "metadata": {},
     "output_type": "execute_result"
    }
   ],
   "source": [
    "import re\n",
    "pat = re.compile(r'\\w+')\n",
    "\n",
    "class Sentence:\n",
    "    \n",
    "    def __init__(self, text):\n",
    "        self.text = text\n",
    "        self.words = pat.findall(text)\n",
    "\n",
    "    def __repr__(self):\n",
    "        return 'Sentence(%s)' % repr(self.text)\n",
    "\n",
    "    def __iter__(self):\n",
    "        for word in self.words:\n",
    "            yield word\n",
    "        return\n",
    "[w for w in Sentence(\"Essence of iterators is **laziness**\")]"
   ]
  },
  {
   "cell_type": "code",
   "execution_count": 197,
   "metadata": {},
   "outputs": [
    {
     "data": {
      "text/plain": [
       "['Essence', 'of', 'iterators', 'is', 'laziness']"
      ]
     },
     "execution_count": 197,
     "metadata": {},
     "output_type": "execute_result"
    }
   ],
   "source": [
    "# generator version\n",
    "import re\n",
    "pat = re.compile(r'\\w+')\n",
    "\n",
    "class Sentence:\n",
    "    \n",
    "    def __init__(self, text):\n",
    "        self.text = text    # no word list\n",
    "\n",
    "    def __repr__(self):\n",
    "        return 'Sentence(%s)' % repr(self.text)\n",
    "\n",
    "    def __iter__(self):\n",
    "        for match in pat.finditer(self.text):\n",
    "            yield match.group()     # yielded on demand\n",
    "\n",
    "[w for w in Sentence(\"Essence of iterators is **laziness**\")]"
   ]
  },
  {
   "attachments": {
    "image.png": {
     "image/png": "[encoded data removed]"
    }
   },
   "cell_type": "markdown",
   "metadata": {},
   "source": [
    "<img src=\"attachment:image.png\" width=\"600\">"
   ]
  },
  {
   "cell_type": "code",
   "execution_count": 200,
   "metadata": {},
   "outputs": [
    {
     "data": {
      "text/plain": [
       "31623"
      ]
     },
     "execution_count": 200,
     "metadata": {},
     "output_type": "execute_result"
    }
   ],
   "source": [
    "log = ['81.107.39.38 - ... \"GET /ply/ HTTP/1.1\" 200 7587',\n",
    "'81.107.39.38 - ... \"GET /favicon.ico HTTP/1.1\" 404 133',\n",
    "'81.107.39.38 - ... \"GET /ply/bookplug.gif HTTP/1.1\" 200 23903',\n",
    "'81.107.39.38 - ... \"GET /ply/ HTTP/1.1\" 304 -']\n",
    "\n",
    "total = 0\n",
    "for line in log:\n",
    "    bytestr = line.rsplit(None,1)[1]\n",
    "    if bytestr != '-':\n",
    "        total += int(bytestr)\n",
    "total"
   ]
  },
  {
   "cell_type": "code",
   "execution_count": 201,
   "metadata": {},
   "outputs": [
    {
     "data": {
      "text/plain": [
       "31623"
      ]
     },
     "execution_count": 201,
     "metadata": {},
     "output_type": "execute_result"
    }
   ],
   "source": [
    "entries = (line.rsplit(None,1)[1] for line in log)\n",
    "sum(int(x) for x in entries if x != '-')"
   ]
  },
  {
   "cell_type": "code",
   "execution_count": 204,
   "metadata": {},
   "outputs": [
    {
     "data": {
      "text/plain": [
       "31623"
      ]
     },
     "execution_count": 204,
     "metadata": {},
     "output_type": "execute_result"
    }
   ],
   "source": [
    "sum(int(x) for x in (line.rsplit(None,1)[1] for line in log) if x != '-')"
   ]
  },
  {
   "cell_type": "code",
   "execution_count": 225,
   "metadata": {},
   "outputs": [
    {
     "name": "stdout",
     "output_type": "stream",
     "text": [
      "0 0 1 0 1 2 0 1 2 3 0 1 2 3 4 0 1 2 3 4 5\n"
     ]
    }
   ],
   "source": [
    "def chain(iterables):\n",
    "    for it in iterables:\n",
    "        for i in it:\n",
    "            yield i\n",
    "            \n",
    "print(*chain(range(i) for i in range(7)))"
   ]
  },
  {
   "attachments": {},
   "cell_type": "markdown",
   "metadata": {},
   "source": [
    "`yield from` offers convenient way to yield from nested generators"
   ]
  },
  {
   "cell_type": "code",
   "execution_count": 226,
   "metadata": {},
   "outputs": [
    {
     "name": "stdout",
     "output_type": "stream",
     "text": [
      "0 0 1 0 1 2 0 1 2 3 0 1 2 3 4 0 1 2 3 4 5\n"
     ]
    }
   ],
   "source": [
    "def chain(iterables):\n",
    "    for it in iterables:\n",
    "        yield from it\n",
    "        \n",
    "print(*chain(range(i) for i in range(7)))"
   ]
  },
  {
   "cell_type": "code",
   "execution_count": 231,
   "metadata": {},
   "outputs": [
    {
     "data": {
      "text/plain": [
       "<generator object fibonacci at 0x000001D41C994CC8>"
      ]
     },
     "execution_count": 231,
     "metadata": {},
     "output_type": "execute_result"
    }
   ],
   "source": [
    "def fibonacci(max):\n",
    "    assert max>0, 'max should be > 0'\n",
    "    a, b = 0, 1\n",
    "    while a < max:\n",
    "        yield a\n",
    "        a, b = b, a+b\n",
    "fibonacci(200)"
   ]
  },
  {
   "cell_type": "code",
   "execution_count": 234,
   "metadata": {},
   "outputs": [
    {
     "data": {
      "text/plain": [
       "[0, 1, 1, 2, 3, 5, 8, 13, 21, 34, 55, 89, 144]"
      ]
     },
     "execution_count": 234,
     "metadata": {},
     "output_type": "execute_result"
    }
   ],
   "source": [
    "list(fibonacci(200))"
   ]
  },
  {
   "cell_type": "code",
   "execution_count": null,
   "metadata": {},
   "outputs": [],
   "source": []
  }
 ],
 "metadata": {
  "kernelspec": {
   "display_name": "Python 3",
   "language": "python",
   "name": "python3"
  },
  "language_info": {
   "codemirror_mode": {
    "name": "ipython",
    "version": 3
   },
   "file_extension": ".py",
   "mimetype": "text/x-python",
   "name": "python",
   "nbconvert_exporter": "python",
   "pygments_lexer": "ipython3",
   "version": "3.7.4"
  }
 },
 "nbformat": 4,
 "nbformat_minor": 2
}
